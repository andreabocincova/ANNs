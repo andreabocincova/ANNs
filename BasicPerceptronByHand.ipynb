{
 "cells": [
  {
   "cell_type": "markdown",
   "id": "ade51097",
   "metadata": {},
   "source": [
    "# NEURAL NETWORK FROM SCRATCH"
   ]
  },
  {
   "cell_type": "code",
   "execution_count": 11,
   "id": "6eaf74e0",
   "metadata": {},
   "outputs": [],
   "source": [
    "# create a set of functions that can build a neural net- basic perceptron \n",
    "# using a structure similar to tensorflow"
   ]
  },
  {
   "cell_type": "code",
   "execution_count": 145,
   "id": "7996eceb",
   "metadata": {},
   "outputs": [],
   "source": [
    "# GOAL: create A GRAPH - a global variable with constants and operations that \n",
    "# can perform a basic classification"
   ]
  },
  {
   "cell_type": "code",
   "execution_count": 146,
   "id": "4f519402",
   "metadata": {},
   "outputs": [],
   "source": [
    "import numpy as np"
   ]
  },
  {
   "cell_type": "code",
   "execution_count": 154,
   "id": "4cfee94c",
   "metadata": {},
   "outputs": [],
   "source": [
    "## OPERATION CLASS\n",
    "\n",
    "class Operation():\n",
    "    \n",
    "    def __init__(self,input_nodes = []):\n",
    "        \n",
    "        self.input_nodes = input_nodes\n",
    "        \n",
    "        self.output_nodes = []\n",
    "        \n",
    "        for node in input_nodes:\n",
    "            \n",
    "            node.output_nodes.append(self)\n",
    "        \n",
    "        _default_graph.operations.append(self)\n",
    "        \n",
    "    def compute(self): # just a place holder that is overwritten by the actual operations\n",
    "        pass"
   ]
  },
  {
   "cell_type": "code",
   "execution_count": 155,
   "id": "b84b2099",
   "metadata": {},
   "outputs": [],
   "source": [
    "# addition\n",
    "class add(Operation):\n",
    "    \n",
    "    def __init__(self,x,y):\n",
    "        super().__init__([x,y])\n",
    "        \n",
    "    def compute(self,x_var,y_var):\n",
    "        self.inputs = [x_var,y_var]\n",
    "        return x_var + y_var"
   ]
  },
  {
   "cell_type": "code",
   "execution_count": 156,
   "id": "6d20ec06",
   "metadata": {},
   "outputs": [],
   "source": [
    "# multiplication\n",
    "class multiply(Operation):\n",
    "    \n",
    "    def __init__(self,x,y):\n",
    "         super().__init__([x,y])\n",
    "        \n",
    "    def compute(self,x_var,y_var):\n",
    "        self.inputs = [x_var,y_var]\n",
    "        return x_var * y_var"
   ]
  },
  {
   "cell_type": "code",
   "execution_count": 263,
   "id": "7f9563c4",
   "metadata": {},
   "outputs": [],
   "source": [
    "# matrix multiplication\n",
    "class matrixmultiply(Operation):\n",
    "    \n",
    "    def __init__(self,x,y):\n",
    "         super().__init__([x,y])\n",
    "        \n",
    "    def compute(self,x_var,y_var):\n",
    "        x_var = np.array(x_var)\n",
    "        y_var = np.array(y_var)\n",
    "        self.inputs = [x_var,y_var]\n",
    "        return x_var.dot(y_var) # has to be numpy array"
   ]
  },
  {
   "cell_type": "code",
   "execution_count": 158,
   "id": "bce93abd",
   "metadata": {},
   "outputs": [],
   "source": [
    "## PLACE HOLDER CLASS (this is the point that the perceptron will be classifying)\n",
    "\n",
    "class Placeholder():\n",
    "    \n",
    "    def __init__(self):\n",
    "        \n",
    "        self.output_nodes = []\n",
    "        \n",
    "        _default_graph.placeholders.append(self)"
   ]
  },
  {
   "cell_type": "code",
   "execution_count": 159,
   "id": "71ced40d",
   "metadata": {},
   "outputs": [],
   "source": [
    "## VARIABLE CLASS \n",
    "\n",
    "class Variable():\n",
    "    \n",
    "    def __init__(self,initial_value=None):\n",
    "        \n",
    "        self.value = initial_value\n",
    "        self.output_nodes = []\n",
    "        \n",
    "        _default_graph.variables.append(self)\n",
    "    "
   ]
  },
  {
   "cell_type": "code",
   "execution_count": 160,
   "id": "89b74d5b",
   "metadata": {},
   "outputs": [],
   "source": [
    "class GRAPH():\n",
    "    \n",
    "    def __init__(self):\n",
    "        \n",
    "        self.operations = []\n",
    "        self.placeholders = []\n",
    "        self.variables = []\n",
    "    \n",
    "    def set_as_default(self):\n",
    "        \n",
    "        # allows it to be accessed within other objects\n",
    "        global _default_graph \n",
    "        _default_graph = self"
   ]
  },
  {
   "cell_type": "markdown",
   "id": "c8037f17",
   "metadata": {},
   "source": [
    "CODE THE FOLLOWING PROBLEM USING THE NEW CLASSES\n",
    "\n",
    "z = Ax + b\n",
    "\n",
    "A = 10\n",
    "\n",
    "b = 1\n",
    "\n",
    "z = 10x + 1"
   ]
  },
  {
   "cell_type": "code",
   "execution_count": 189,
   "id": "f1e6a143",
   "metadata": {},
   "outputs": [],
   "source": [
    "g = GRAPH()"
   ]
  },
  {
   "cell_type": "code",
   "execution_count": 190,
   "id": "10884730",
   "metadata": {},
   "outputs": [],
   "source": [
    "g.set_as_default()"
   ]
  },
  {
   "cell_type": "code",
   "execution_count": 191,
   "id": "9293b896",
   "metadata": {},
   "outputs": [],
   "source": [
    "A = Variable(10)\n",
    "b = Variable(1)"
   ]
  },
  {
   "cell_type": "code",
   "execution_count": 192,
   "id": "9a173ee7",
   "metadata": {},
   "outputs": [],
   "source": [
    "x = Placeholder()"
   ]
  },
  {
   "cell_type": "code",
   "execution_count": 193,
   "id": "527d3996",
   "metadata": {},
   "outputs": [],
   "source": [
    "y = multiply(A,x)"
   ]
  },
  {
   "cell_type": "code",
   "execution_count": 194,
   "id": "f370655f",
   "metadata": {},
   "outputs": [],
   "source": [
    "z = add(y,b)"
   ]
  },
  {
   "cell_type": "code",
   "execution_count": 195,
   "id": "119be218",
   "metadata": {},
   "outputs": [],
   "source": [
    "# nothing has been computed/executed so far (placeholder has not been set)"
   ]
  },
  {
   "cell_type": "code",
   "execution_count": 196,
   "id": "8a76308f",
   "metadata": {},
   "outputs": [],
   "source": [
    "# ensure nodes are computed in the right order (i.e., multiplication first, addition second)\n",
    "# tree traversal\n",
    "def traverse_postorder(operation):\n",
    "    nodes_postorder = []\n",
    "    def recurse(node):\n",
    "        if isinstance(node, Operation):\n",
    "            for input_node in node.input_nodes:\n",
    "                recurse(input_node)\n",
    "        nodes_postorder.append(node)\n",
    "\n",
    "    recurse(operation)\n",
    "    return nodes_postorder"
   ]
  },
  {
   "cell_type": "code",
   "execution_count": 197,
   "id": "ce3d5d4a",
   "metadata": {},
   "outputs": [],
   "source": [
    "# create a SESSION class\n",
    "\n",
    "class Session():\n",
    "    \n",
    "    def run(self,operation,feed_dict={}):\n",
    "        \n",
    "        nodes_postorder = traverse_postorder(operation)\n",
    "        \n",
    "        for node in nodes_postorder:\n",
    "            # check\n",
    "            \n",
    "            if type(node) == Placeholder:\n",
    "                \n",
    "                node.output = feed_dict[node]\n",
    "                \n",
    "            elif type(node) == Variable:\n",
    "                \n",
    "                node.output = node.value\n",
    "                \n",
    "            else:\n",
    "                # operation\n",
    "                node.inputs = [input_node.output for input_node in node.input_nodes]\n",
    "                \n",
    "                node.output = node.compute(*node.inputs) # asterics (args) allows variable lenght of the node.inputs\n",
    "            \n",
    "            if type(node.output) == list:\n",
    "                node.ouptut = np.array(node.output)\n",
    "                \n",
    "        return operation.output"
   ]
  },
  {
   "cell_type": "code",
   "execution_count": 198,
   "id": "eed3b375",
   "metadata": {},
   "outputs": [],
   "source": [
    "sess = Session()"
   ]
  },
  {
   "cell_type": "code",
   "execution_count": 199,
   "id": "685ca090",
   "metadata": {},
   "outputs": [],
   "source": [
    "result = sess.run(operation=z,feed_dict = {x:10})"
   ]
  },
  {
   "cell_type": "code",
   "execution_count": null,
   "id": "1471ec2e",
   "metadata": {},
   "outputs": [],
   "source": []
  },
  {
   "cell_type": "code",
   "execution_count": 200,
   "id": "a2e21066",
   "metadata": {},
   "outputs": [
    {
     "data": {
      "text/plain": [
       "101"
      ]
     },
     "execution_count": 200,
     "metadata": {},
     "output_type": "execute_result"
    }
   ],
   "source": [
    "result"
   ]
  },
  {
   "cell_type": "code",
   "execution_count": 201,
   "id": "e3a3efaa",
   "metadata": {},
   "outputs": [],
   "source": [
    "g = GRAPH()\n",
    "g.set_as_default()\n",
    "A = Variable(np.array([[10,20],[30,40]]))\n",
    "b = Variable([1,1])\n",
    "x = Placeholder()\n",
    "y = matrixmultiply(A,x)\n",
    "z = add(y,b)"
   ]
  },
  {
   "cell_type": "code",
   "execution_count": 202,
   "id": "782fb3c9",
   "metadata": {},
   "outputs": [],
   "source": [
    "sess = Session()"
   ]
  },
  {
   "cell_type": "code",
   "execution_count": 203,
   "id": "fd075a83",
   "metadata": {},
   "outputs": [
    {
     "data": {
      "text/plain": [
       "array([[101, 201],\n",
       "       [301, 401]])"
      ]
     },
     "execution_count": 203,
     "metadata": {},
     "output_type": "execute_result"
    }
   ],
   "source": [
    "sess.run(operation = z, feed_dict = {x:10})"
   ]
  },
  {
   "cell_type": "markdown",
   "id": "fa5ee909",
   "metadata": {},
   "source": [
    "# CLASSIFICATION"
   ]
  },
  {
   "cell_type": "code",
   "execution_count": 218,
   "id": "ecda5dc8",
   "metadata": {},
   "outputs": [],
   "source": [
    "# Activation function\n",
    "import matplotlib.pyplot as plt\n",
    "%matplotlib inline"
   ]
  },
  {
   "cell_type": "code",
   "execution_count": 219,
   "id": "cbb58b6a",
   "metadata": {},
   "outputs": [],
   "source": [
    "def sigmoid(z):\n",
    "    return 1/(1+np.exp(-z))"
   ]
  },
  {
   "cell_type": "code",
   "execution_count": 222,
   "id": "3cf7a937",
   "metadata": {},
   "outputs": [
    {
     "data": {
      "text/plain": [
       "[<matplotlib.lines.Line2D at 0x7f9e50e42d50>]"
      ]
     },
     "execution_count": 222,
     "metadata": {},
     "output_type": "execute_result"
    },
    {
     "data": {
      "image/png": "[encoded data removed]",
      "text/plain": [
       "<Figure size 432x288 with 1 Axes>"
      ]
     },
     "metadata": {
      "needs_background": "light"
     },
     "output_type": "display_data"
    }
   ],
   "source": [
    "example_z = np.linspace(-10,10,100)\n",
    "example_a = sigmoid(example_z)\n",
    "plt.plot(example_z,example_a)"
   ]
  },
  {
   "cell_type": "code",
   "execution_count": 252,
   "id": "bf32593c",
   "metadata": {},
   "outputs": [],
   "source": [
    "# turn the sigmoid function into an operation\n",
    "class Sigmoid(Operation):\n",
    "    \n",
    "    def __init__(self,z):\n",
    "         super().__init__([z])\n",
    "        \n",
    "    def compute(self,z_val):\n",
    "        return 1/(1+np.exp(-z_val)) "
   ]
  },
  {
   "cell_type": "code",
   "execution_count": 224,
   "id": "76d510ff",
   "metadata": {},
   "outputs": [],
   "source": [
    "from sklearn.datasets import make_blobs"
   ]
  },
  {
   "cell_type": "code",
   "execution_count": 225,
   "id": "d5e17c5a",
   "metadata": {},
   "outputs": [],
   "source": [
    "data = make_blobs(n_samples = 50,n_features = 2, centers = 2, random_state = 75)"
   ]
  },
  {
   "cell_type": "code",
   "execution_count": 230,
   "id": "620b12e6",
   "metadata": {},
   "outputs": [
    {
     "data": {
      "text/plain": [
       "<matplotlib.collections.PathCollection at 0x7f9de0117dd0>"
      ]
     },
     "execution_count": 230,
     "metadata": {},
     "output_type": "execute_result"
    },
    {
     "data": {
      "image/png": "[encoded data removed]",
      "text/plain": [
       "<Figure size 432x288 with 1 Axes>"
      ]
     },
     "metadata": {
      "needs_background": "light"
     },
     "output_type": "display_data"
    }
   ],
   "source": [
    "features = data[0]\n",
    "labels = data[1]\n",
    "\n",
    "plt.scatter(features[:,0],features[:,1],c=labels)"
   ]
  },
  {
   "cell_type": "code",
   "execution_count": 231,
   "id": "2f7a46ad",
   "metadata": {},
   "outputs": [],
   "source": [
    "# create a separation line"
   ]
  },
  {
   "cell_type": "code",
   "execution_count": 291,
   "id": "30eb4879",
   "metadata": {},
   "outputs": [],
   "source": [
    "x = np.linspace(0,11,10)\n",
    "y = -x+5"
   ]
  },
  {
   "cell_type": "code",
   "execution_count": 292,
   "id": "ee37949b",
   "metadata": {},
   "outputs": [
    {
     "data": {
      "text/plain": [
       "[<matplotlib.lines.Line2D at 0x7f9e516657d0>]"
      ]
     },
     "execution_count": 292,
     "metadata": {},
     "output_type": "execute_result"
    },
    {
     "data": {
      "image/png": "[encoded data removed]",
      "text/plain": [
       "<Figure size 432x288 with 1 Axes>"
      ]
     },
     "metadata": {
      "needs_background": "light"
     },
     "output_type": "display_data"
    }
   ],
   "source": [
    "plt.scatter(features[:,0],features[:,1],c=labels)\n",
    "plt.plot(x,y)"
   ]
  },
  {
   "cell_type": "markdown",
   "id": "1bd88626",
   "metadata": {},
   "source": [
    "(1,1)* f - 5 = 0 # matrix representation of the line\n",
    "\n",
    "if above zero, yellow class\n",
    "\n",
    "if below zero, purple class"
   ]
  },
  {
   "cell_type": "code",
   "execution_count": 294,
   "id": "9532b7a0",
   "metadata": {},
   "outputs": [
    {
     "data": {
      "text/plain": [
       "array([13])"
      ]
     },
     "execution_count": 294,
     "metadata": {},
     "output_type": "execute_result"
    }
   ],
   "source": [
    "np.array([1,1]).dot(np.array([[8],[10]]))-5 # yellow point"
   ]
  },
  {
   "cell_type": "code",
   "execution_count": 293,
   "id": "7cdc7267",
   "metadata": {},
   "outputs": [
    {
     "data": {
      "text/plain": [
       "array([-10])"
      ]
     },
     "execution_count": 293,
     "metadata": {},
     "output_type": "execute_result"
    }
   ],
   "source": [
    "np.array([1,1]).dot(np.array([[-15],[10]]))-5 # purple point"
   ]
  },
  {
   "cell_type": "code",
   "execution_count": 265,
   "id": "4e86ff15",
   "metadata": {},
   "outputs": [],
   "source": [
    "g = GRAPH()\n",
    "g.set_as_default()"
   ]
  },
  {
   "cell_type": "code",
   "execution_count": 266,
   "id": "581ec136",
   "metadata": {},
   "outputs": [],
   "source": [
    "x = Placeholder()"
   ]
  },
  {
   "cell_type": "code",
   "execution_count": 267,
   "id": "9efa297d",
   "metadata": {},
   "outputs": [],
   "source": [
    "w = Variable([1,1])"
   ]
  },
  {
   "cell_type": "code",
   "execution_count": 268,
   "id": "7545dd54",
   "metadata": {},
   "outputs": [],
   "source": [
    "b = Variable(-5)"
   ]
  },
  {
   "cell_type": "code",
   "execution_count": 269,
   "id": "5fa8a693",
   "metadata": {},
   "outputs": [],
   "source": [
    "z = add(matrixmultiply(w,x),b)"
   ]
  },
  {
   "cell_type": "code",
   "execution_count": 270,
   "id": "70d5f29a",
   "metadata": {},
   "outputs": [],
   "source": [
    "a = Sigmoid(z)"
   ]
  },
  {
   "cell_type": "code",
   "execution_count": 271,
   "id": "0552c440",
   "metadata": {},
   "outputs": [],
   "source": [
    "sess = Session()"
   ]
  },
  {
   "cell_type": "code",
   "execution_count": 272,
   "id": "87447f2e",
   "metadata": {},
   "outputs": [
    {
     "data": {
      "text/plain": [
       "0.999997739675702"
      ]
     },
     "execution_count": 272,
     "metadata": {},
     "output_type": "execute_result"
    }
   ],
   "source": [
    "sess.run(operation=a,feed_dict={x:[8,10]}) # yellow class"
   ]
  },
  {
   "cell_type": "code",
   "execution_count": 273,
   "id": "0b24e982",
   "metadata": {},
   "outputs": [
    {
     "data": {
      "text/plain": [
       "2.2603242979035746e-06"
      ]
     },
     "execution_count": 273,
     "metadata": {},
     "output_type": "execute_result"
    }
   ],
   "source": [
    "sess.run(operation=a,feed_dict={x:[2,-10]}) # purple class"
   ]
  },
  {
   "cell_type": "code",
   "execution_count": 462,
   "id": "4a0bba20",
   "metadata": {},
   "outputs": [
    {
     "data": {
      "text/plain": [
       "[<matplotlib.lines.Line2D at 0x7f9e6175b550>]"
      ]
     },
     "execution_count": 462,
     "metadata": {},
     "output_type": "execute_result"
    },
    {
     "data": {
      "image/png": "[encoded data removed]",
      "text/plain": [
       "<Figure size 432x288 with 1 Axes>"
      ]
     },
     "metadata": {
      "needs_background": "light"
     },
     "output_type": "display_data"
    }
   ],
   "source": [
    "# changing the slope of the line and comparing results across two separation lines\n",
    "x = np.linspace(0,11,10)\n",
    "y1 = -2*x+8\n",
    "y2 = -1/2*x+8\n",
    "plt.scatter(features[:,0],features[:,1],c=labels)\n",
    "plt.plot(x,y1)\n",
    "plt.plot(x,y2)\n",
    "\n",
    "# pick a point that would be assigned to a different class depending on the slope of the w\n",
    "point2classify = [8,1]\n",
    "plt.plot(point2classify[0],point2classify[1],'ro')"
   ]
  },
  {
   "cell_type": "code",
   "execution_count": null,
   "id": "18424bb6",
   "metadata": {},
   "outputs": [],
   "source": []
  },
  {
   "cell_type": "code",
   "execution_count": 467,
   "id": "eba3846d",
   "metadata": {},
   "outputs": [
    {
     "data": {
      "text/plain": [
       "0.9998766054240137"
      ]
     },
     "execution_count": 467,
     "metadata": {},
     "output_type": "execute_result"
    }
   ],
   "source": [
    "g = GRAPH()\n",
    "g.set_as_default()\n",
    "x = Placeholder()\n",
    "w = Variable([2,1]) # slope is y over x (in this case y should double with respect to x)\n",
    "b = Variable(-8)\n",
    "z = add(matrixmultiply(w,x),b)\n",
    "a = Sigmoid(z)\n",
    "sess = Session()\n",
    "sess.run(operation=a,feed_dict={x:point2classify}) "
   ]
  },
  {
   "cell_type": "code",
   "execution_count": 471,
   "id": "8f544044",
   "metadata": {},
   "outputs": [
    {
     "data": {
      "text/plain": [
       "9"
      ]
     },
     "execution_count": 471,
     "metadata": {},
     "output_type": "execute_result"
    }
   ],
   "source": [
    "np.array([2,1]).dot(point2classify)-8 # yellow point"
   ]
  },
  {
   "cell_type": "code",
   "execution_count": 472,
   "id": "32e5775a",
   "metadata": {},
   "outputs": [
    {
     "data": {
      "text/plain": [
       "0.04742587317756678"
      ]
     },
     "execution_count": 472,
     "metadata": {},
     "output_type": "execute_result"
    }
   ],
   "source": [
    "g = GRAPH()\n",
    "g.set_as_default()\n",
    "x = Placeholder()\n",
    "w = Variable([1/2,1])\n",
    "b = Variable(-8)\n",
    "z = add(matrixmultiply(w,x),b)\n",
    "a = Sigmoid(z)\n",
    "sess = Session()\n",
    "sess.run(operation=a,feed_dict={x:point2classify}) "
   ]
  },
  {
   "cell_type": "code",
   "execution_count": 473,
   "id": "534919d2",
   "metadata": {},
   "outputs": [
    {
     "data": {
      "text/plain": [
       "-3.0"
      ]
     },
     "execution_count": 473,
     "metadata": {},
     "output_type": "execute_result"
    }
   ],
   "source": [
    "np.array([1/2,1]).dot(point2classify)-8 # yellow point"
   ]
  },
  {
   "cell_type": "code",
   "execution_count": null,
   "id": "2c6d4fd7",
   "metadata": {},
   "outputs": [],
   "source": []
  }
 ],
 "metadata": {
  "kernelspec": {
   "display_name": "Python 3",
   "language": "python",
   "name": "python3"
  },
  "language_info": {
   "codemirror_mode": {
    "name": "ipython",
    "version": 3
   },
   "file_extension": ".py",
   "mimetype": "text/x-python",
   "name": "python",
   "nbconvert_exporter": "python",
   "pygments_lexer": "ipython3",
   "version": "3.7.10"
  }
 },
 "nbformat": 4,
 "nbformat_minor": 5
}
