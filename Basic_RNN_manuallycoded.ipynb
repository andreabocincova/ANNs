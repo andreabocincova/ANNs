{
 "cells": [
  {
   "cell_type": "markdown",
   "id": "3817140c",
   "metadata": {},
   "source": [
    "## BASIC MANUALLY CODED RNN"
   ]
  },
  {
   "cell_type": "code",
   "execution_count": 4,
   "id": "e4a996f9",
   "metadata": {},
   "outputs": [],
   "source": [
    "import numpy as np\n",
    "import tensorflow as tf\n",
    "import matplotlib.pyplot as plt\n",
    "%matplotlib inline"
   ]
  },
  {
   "cell_type": "code",
   "execution_count": 7,
   "id": "a85b3c74",
   "metadata": {},
   "outputs": [],
   "source": [
    "%config Completer.use_jedi = False #this command helps with autocomplete lags \n",
    "tf.compat.v1.disable_eager_execution()"
   ]
  },
  {
   "cell_type": "code",
   "execution_count": 2,
   "id": "07a1ab5b",
   "metadata": {},
   "outputs": [],
   "source": [
    "# Constants"
   ]
  },
  {
   "cell_type": "code",
   "execution_count": 3,
   "id": "e60f48bd",
   "metadata": {},
   "outputs": [],
   "source": [
    "num_inputs = 2\n",
    "num_neurons = 3"
   ]
  },
  {
   "cell_type": "code",
   "execution_count": 8,
   "id": "e3aa3f94",
   "metadata": {},
   "outputs": [],
   "source": [
    "# Placeholders\n",
    "x0 = tf.compat.v1.placeholder(tf.float32,[None,num_inputs])"
   ]
  },
  {
   "cell_type": "code",
   "execution_count": 9,
   "id": "55eb1880",
   "metadata": {},
   "outputs": [],
   "source": [
    "x1 = tf.compat.v1.placeholder(tf.float32,[None,num_inputs])"
   ]
  },
  {
   "cell_type": "code",
   "execution_count": 10,
   "id": "68aaa7d8",
   "metadata": {},
   "outputs": [],
   "source": [
    "# Variables\n",
    "Wx = tf.Variable(tf.random.normal(shape = [num_inputs,num_neurons]))"
   ]
  },
  {
   "cell_type": "code",
   "execution_count": 11,
   "id": "dc03e039",
   "metadata": {},
   "outputs": [],
   "source": [
    "Wy = tf.Variable(tf.random.normal(shape = [num_neurons,num_neurons]))"
   ]
  },
  {
   "cell_type": "code",
   "execution_count": 12,
   "id": "300335bc",
   "metadata": {},
   "outputs": [],
   "source": [
    "b = tf.Variable(tf.zeros([1,num_neurons]))"
   ]
  },
  {
   "cell_type": "code",
   "execution_count": 13,
   "id": "7572720e",
   "metadata": {},
   "outputs": [],
   "source": [
    "# Graphs\n",
    "y0 = tf.tanh(tf.matmul(x0,Wx)+b)\n",
    "y1 = tf.tanh(tf.matmul(y0,Wy) + tf.matmul(x1,Wx) + b)"
   ]
  },
  {
   "cell_type": "code",
   "execution_count": 14,
   "id": "c2ecdde4",
   "metadata": {},
   "outputs": [],
   "source": [
    "init = tf.compat.v1.global_variables_initializer()"
   ]
  },
  {
   "cell_type": "code",
   "execution_count": 19,
   "id": "9ac498bd",
   "metadata": {},
   "outputs": [],
   "source": [
    "# Create data\n",
    "# timestamp 0\n",
    "x0_batch = np.array([[0,1],[2,3],[4,5]])\n",
    "\n",
    "# timestamp 1\n",
    "x1_batch = np.array([[0,1],[2,3],[4,5]])+100"
   ]
  },
  {
   "cell_type": "code",
   "execution_count": 22,
   "id": "cf19b7f2",
   "metadata": {},
   "outputs": [],
   "source": [
    "with tf.compat.v1.Session() as sess:\n",
    "    \n",
    "    sess.run(init)\n",
    "    \n",
    "    y0_output_vals, y1_output_vals = sess.run([y0,y1],feed_dict = {x0:x0_batch,x1:x1_batch})"
   ]
  },
  {
   "cell_type": "code",
   "execution_count": 23,
   "id": "eb4b3140",
   "metadata": {},
   "outputs": [
    {
     "data": {
      "text/plain": [
       "array([[-0.1566522 ,  0.36598513, -0.8492048 ],\n",
       "       [ 0.21080811,  0.81561416, -0.99999595],\n",
       "       [ 0.527003  ,  0.95652485, -1.        ]], dtype=float32)"
      ]
     },
     "execution_count": 23,
     "metadata": {},
     "output_type": "execute_result"
    }
   ],
   "source": [
    "y0_output_vals"
   ]
  },
  {
   "cell_type": "code",
   "execution_count": 24,
   "id": "13aedbfa",
   "metadata": {},
   "outputs": [
    {
     "data": {
      "text/plain": [
       "array([[ 1.,  1., -1.],\n",
       "       [ 1.,  1., -1.],\n",
       "       [ 1.,  1., -1.]], dtype=float32)"
      ]
     },
     "execution_count": 24,
     "metadata": {},
     "output_type": "execute_result"
    }
   ],
   "source": [
    "y1_output_vals"
   ]
  },
  {
   "cell_type": "code",
   "execution_count": null,
   "id": "4633abfb",
   "metadata": {},
   "outputs": [],
   "source": []
  }
 ],
 "metadata": {
  "kernelspec": {
   "display_name": "Python 3",
   "language": "python",
   "name": "python3"
  },
  "language_info": {
   "codemirror_mode": {
    "name": "ipython",
    "version": 3
   },
   "file_extension": ".py",
   "mimetype": "text/x-python",
   "name": "python",
   "nbconvert_exporter": "python",
   "pygments_lexer": "ipython3",
   "version": "3.7.10"
  }
 },
 "nbformat": 4,
 "nbformat_minor": 5
}
